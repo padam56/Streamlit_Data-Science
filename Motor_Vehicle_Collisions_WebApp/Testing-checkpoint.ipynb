{
 "cells": [
  {
   "cell_type": "code",
   "execution_count": 1,
   "source": [
    "import streamlit as st\r\n",
    "import pandas as pd\r\n",
    "import numpy as np\r\n",
    "import altair as alt\r\n",
    "import pydeck as pdk"
   ],
   "outputs": [],
   "metadata": {}
  },
  {
   "cell_type": "code",
   "execution_count": 2,
   "source": [
    "DATE_TIME = \"date/time\"\r\n",
    "DATA_URL = (\r\n",
    "    \"Motor_Vehicle_Collisions_-_Crashes.csv\"\r\n",
    ")"
   ],
   "outputs": [],
   "metadata": {}
  },
  {
   "cell_type": "code",
   "execution_count": null,
   "source": [
    "data = pd.read_csv(DATA_URL, parse_dates=[['CRASH_DATE', 'CRASH_TIME']], low_memory=False)\r\n",
    "data.dropna(subset=['LATITUDE', 'LONGITUDE'], inplace=True)\r\n",
    "lowercase = lambda x: str(x).lower()\r\n",
    "data.rename(lowercase, axis=\"columns\", inplace=True)\r\n",
    "data.rename(columns={\"crash_date_crash_time\": \"date/time\"}, inplace=True)"
   ],
   "outputs": [],
   "metadata": {}
  },
  {
   "cell_type": "code",
   "execution_count": null,
   "source": [
    "data.shape"
   ],
   "outputs": [],
   "metadata": {}
  }
 ],
 "metadata": {
  "kernelspec": {
   "display_name": "Python 3",
   "language": "python",
   "name": "python3"
  },
  "language_info": {
   "codemirror_mode": {
    "name": "ipython",
    "version": 3
   },
   "file_extension": ".py",
   "mimetype": "text/x-python",
   "name": "python",
   "nbconvert_exporter": "python",
   "pygments_lexer": "ipython3",
   "version": "3.6.8"
  }
 },
 "nbformat": 4,
 "nbformat_minor": 2
}